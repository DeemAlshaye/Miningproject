{
 "cells": [
  {
   "cell_type": "markdown",
   "id": "16b16cb3",
   "metadata": {},
   "source": [
    "# Goal of collecting this Dataset\n",
    "Predicting Data Sciens job salaries"
   ]
  },
  {
   "cell_type": "markdown",
   "id": "ce383ff3",
   "metadata": {},
   "source": [
    "# The source of the dataset\n",
    "Link to the source Dataset: https://www.kaggle.com/datasets/arnabchaki/data-science-salaries-2023?resource=download"
   ]
  },
  {
   "cell_type": "markdown",
   "id": "390b3864",
   "metadata": {},
   "source": [
    "# informition about the Dataset"
   ]
  },
  {
   "cell_type": "markdown",
   "id": "3f55df9a",
   "metadata": {},
   "source": [
    "Number of Attributes: 11\n"
   ]
  },
  {
   "cell_type": "markdown",
   "id": "ee6b676b",
   "metadata": {},
   "source": [
    "\n",
    "Type of Attributes: nominal, ordinal, numeric\n"
   ]
  },
  {
   "cell_type": "markdown",
   "id": "7eec6441",
   "metadata": {},
   "source": [
    "\n",
    "Number of objects: 3755\n"
   ]
  },
  {
   "cell_type": "markdown",
   "id": "5e4b9085",
   "metadata": {},
   "source": [
    "\n",
    "Class name: salary"
   ]
  },
  {
   "cell_type": "markdown",
   "id": "93742bf1",
   "metadata": {},
   "source": [
    "|Attributes name| Description| Data type |Possible values|\n",
    "|---------------|------------|-----------|---------------|\n",
    "|work_year      |The year the salary was paid| ordinal |Range between(2020-2023|\n",
    "|experience_level|The experience level in the job during the year| ordinal|(SE,MI,EN,EX)|\n",
    "|employment_type|The type of employment for the role| ordinal| (FT,PT,CT,FL)|\n",
    "|job_title| The role worked in during the year| nominal|(Data Engineer, Data Scientist,Data Analyst, Machine Learning Engineer, Analytics Engineer)|\n",
    "|salary|The total gross salary amount paid| numeric|Range Between [6000 - 30.4m]|\n",
    "|salary_currency|The currency of the salary paid as an ISO 4217 currency code|nominal|(USD,EUR,GBP,INR,CAD)|\n",
    "| salaryinusd        |  The salary in USD      |    numeric| Between[5132-450k]           |\n",
    "|employee_residence |Employee's primary country of residence in during the work year as an ISO 3166 country code| nominal |(US,GB,CA,ES,IN)|\n",
    "|remote_ratio |The overall amount of work done remotely |numeric | Range Between [0-100]|\n",
    "|company_location| The country of the employer's main office or contracting branch| nominal |(US,GB,CA,ES,IN)|\n",
    "|company_size | The median number of people that worked for the company during the year| ordinal |(S,M.L)|"
   ]
  }
 ],
 "metadata": {
  "kernelspec": {
   "display_name": "R",
   "language": "R",
   "name": "ir"
  },
  "language_info": {
   "codemirror_mode": "r",
   "file_extension": ".r",
   "mimetype": "text/x-r-source",
   "name": "R",
   "pygments_lexer": "r",
   "version": "3.6.1"
  }
 },
 "nbformat": 4,
 "nbformat_minor": 5
}
